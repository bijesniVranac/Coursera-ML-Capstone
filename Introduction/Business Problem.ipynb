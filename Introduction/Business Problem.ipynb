{
    "nbformat_minor": 1, 
    "cells": [
        {
            "source": "# Introduction/Business Problem - Drugstores", 
            "cell_type": "markdown", 
            "metadata": {
                "collapsed": true
            }
        }, 
        {
            "source": "Big Drugstore Chain from the USA wants to start a business in Germany. They want to start at least three Drugstores in Berlin but they need to choose the best locations for their Stores.  After they made their SWAT analysis they decided to find locations with as much as possible population, not high competition around and not big office rent price. The datascientists job is to find such locations that fulfil that criteria. \n", 
            "cell_type": "markdown", 
            "metadata": {}
        }, 
        {
            "source": "First, data about Berlin boroughs and neigborhoods must be found, also, population and price data for boroughs and neighborhoods. Foursquare APIs will be used to find venues in neighborhoods and select those where is as little Drugstores as possible and filter by low prices.", 
            "cell_type": "markdown", 
            "metadata": {}
        }, 
        {
            "execution_count": null, 
            "cell_type": "code", 
            "metadata": {}, 
            "outputs": [], 
            "source": ""
        }
    ], 
    "metadata": {
        "kernelspec": {
            "display_name": "Python 3.5", 
            "name": "python3", 
            "language": "python"
        }, 
        "language_info": {
            "mimetype": "text/x-python", 
            "nbconvert_exporter": "python", 
            "version": "3.5.5", 
            "name": "python", 
            "file_extension": ".py", 
            "pygments_lexer": "ipython3", 
            "codemirror_mode": {
                "version": 3, 
                "name": "ipython"
            }
        }
    }, 
    "nbformat": 4
}