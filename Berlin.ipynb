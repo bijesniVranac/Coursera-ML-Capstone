{
    "nbformat_minor": 2, 
    "cells": [
        {
            "source": "# Making initial dataset about Berlin Boroughs and Neigborhoods", 
            "cell_type": "markdown", 
            "metadata": {}
        }, 
        {
            "source": "Data about Neigborhoods, Boroughs, Population and Prices are collected from various Internet sources. Population and Prices data are from 2016. Prices are max rent prices of office space in Berlin by Borough.", 
            "cell_type": "markdown", 
            "metadata": {}
        }, 
        {
            "execution_count": 1, 
            "cell_type": "code", 
            "metadata": {}, 
            "outputs": [], 
            "source": "import pandas as pd"
        }, 
        {
            "execution_count": 2, 
            "cell_type": "code", 
            "metadata": {}, 
            "outputs": [], 
            "source": "Neigborhoods = ['Mitte', 'Moabit', 'Hansaviertel', 'Tiergarten', 'Wedding', 'Gesundbrunnen', 'Friedrichshain', 'Kreuzberg', 'Prenzlauer Berg', 'Wei\u00dfensee', 'Blankenburg', 'Heinersdorf', \n'Karow', 'Stadtrandsiedlung Malchow' , 'Pankow', 'Blankenfelde', 'Buch', 'Franz\u00f6sisch Buchholz', 'Niedersch\u00f6nhausen', 'Rosenthal', 'Wilhelmsruh', 'Charlottenburg', 'Wilmersdorf', 'Schmargendorf', \n'Grunewald', 'Westend', 'Charlottenburg-Nord', 'Halensee', 'Spandau', 'Haselhorst', 'Siemensstadt', 'Staaken', 'Gatow', 'Kladow', 'Hakenfelde', 'Falkenhagener Feld', 'Wilhelmstadt', 'Steglitz', \n'Lichterfelde', 'Lankwitz', 'Zehlendorf', 'Dahlem', 'Nikolassee', 'Wannsee', 'Sch\u00f6neberg', 'Friedenau', 'Tempelhof', 'Mariendorf', 'Marienfelde', 'Lichtenrade', 'Neuk\u00f6lln', 'Britz', 'Buckow', 'Rudow', 'Gropiusstadt', \n'Alt-Treptow', 'Pl\u00e4nterwald', 'Baumschulenweg', 'Johannisthal', 'Niedersch\u00f6neweide', 'Altglienicke', 'Adlershof', 'Bohnsdorf', 'Obersch\u00f6neweide', 'K\u00f6penick', 'Friedrichshagen', 'Rahnsdorf', \n'Gr\u00fcnau', 'M\u00fcggelheim', 'Schm\u00f6ckwitz', 'Marzahn', 'Biesdorf', 'Kaulsdorf', 'Mahlsdorf', 'Hellersdorf', 'Friedrichsfelde', 'Karlshorst', 'Lichtenberg', 'Falkenberg', 'Malchow', 'Wartenberg', \n'Neu-Hohensch\u00f6nhausen', 'Alt-Hohensch\u00f6nhausen', 'Fennpfuhl', 'Rummelsburg', 'Reinickendorf', 'Tegel', 'Konradsh\u00f6he', 'Heiligensee', 'Frohnau', 'Hermsdorf', 'Waidmannslust', 'L\u00fcbars', \n'Wittenau', 'M\u00e4rkisches Viertel', 'Borsigwalde']"
        }, 
        {
            "execution_count": 3, 
            "cell_type": "code", 
            "metadata": {}, 
            "outputs": [], 
            "source": "Boroughs = ['Mitte', 'Mitte', 'Mitte', 'Mitte', 'Mitte', 'Mitte', 'Friedrichshain-Kreuzberg', 'Friedrichshain-Kreuzberg', 'Pankow', 'Pankow', 'Pankow', 'Pankow', 'Pankow', 'Pankow', 'Pankow', \n            'Pankow', 'Pankow', 'Pankow', 'Pankow', 'Pankow', 'Pankow', 'Charlottenburg-Wilmersdorf', 'Charlottenburg-Wilmersdorf', 'Charlottenburg-Wilmersdorf', 'Charlottenburg-Wilmersdorf', 'Charlottenburg-Wilmersdorf',\n            'Charlottenburg-Wilmersdorf', 'Charlottenburg-Wilmersdorf', 'Spandau', 'Spandau', 'Spandau', 'Spandau', 'Spandau', 'Spandau', 'Spandau', 'Spandau', 'Spandau','Steglitz-Zehlendorf', \n            'Steglitz-Zehlendorf', 'Steglitz-Zehlendorf', 'Steglitz-Zehlendorf', 'Steglitz-Zehlendorf', 'Steglitz-Zehlendorf', 'Steglitz-Zehlendorf', 'Tempelhof-Sch\u00f6neberg', \n            'Tempelhof-Sch\u00f6neberg', 'Tempelhof-Sch\u00f6neberg', 'Tempelhof-Sch\u00f6neberg', 'Tempelhof-Sch\u00f6neberg', 'Tempelhof-Sch\u00f6neberg', 'Neuk\u00f6lln', 'Neuk\u00f6lln', 'Neuk\u00f6lln', 'Neuk\u00f6lln', 'Neuk\u00f6lln', \n            'Treptow-K\u00f6penick', 'Treptow-K\u00f6penick', 'Treptow-K\u00f6penick', 'Treptow-K\u00f6penick', 'Treptow-K\u00f6penick', 'Treptow-K\u00f6penick', 'Treptow-K\u00f6penick', 'Treptow-K\u00f6penick', 'Treptow-K\u00f6penick', 'Treptow-K\u00f6penick', \n            'Treptow-K\u00f6penick', 'Treptow-K\u00f6penick', 'Treptow-K\u00f6penick', 'Treptow-K\u00f6penick', 'Treptow-K\u00f6penick',  'Marzahn-Hellersdorf', 'Marzahn-Hellersdorf', 'Marzahn-Hellersdorf', 'Marzahn-Hellersdorf', 'Marzahn-Hellersdorf', \n            'Lichtenberg',  'Lichtenberg', 'Lichtenberg', 'Lichtenberg', 'Lichtenberg', 'Lichtenberg', 'Lichtenberg', 'Lichtenberg', 'Lichtenberg', 'Lichtenberg', \n            'Reinickendorf', 'Reinickendorf', 'Reinickendorf', 'Reinickendorf', 'Reinickendorf', 'Reinickendorf', 'Reinickendorf', 'Reinickendorf', 'Reinickendorf', 'Reinickendorf', 'Reinickendorf']"
        }, 
        {
            "execution_count": 4, 
            "cell_type": "code", 
            "metadata": {}, 
            "outputs": [], 
            "source": "Population = [79582, 69425, 5889, 12486, 76363, 82729, 114050, 147227, 142319, 45485, \n6550, 6580, 18258, 1166, 55854, 1917, 13188, 18766, 26903, 8933, 7216, 118704, 92815, \n19750, 10014, 37883, 17327, 13966, 33433, 13668, 11388, 41470, 3908, 13628, 26337, \n34778, 37080, 70555, 78338, 40385, 57902, 14966, 15899, 9044, 116743, 26736, 54382, \n48882, 30151, 49451, 154127, 38334, 38018, 41040, 35884, 10426, 10618, 16780, 17650,\n10043, 26101, 15112, 10751, 17094, 59201, 17285, 8891, 5482, 6350, 4117, 102398, \n24543, 18732, 26852, 72602, 50010, 21329, 32295, 1164, 450, 2433, 53698, 41780, \n30932, 17567, 72859, 33417, 5997, 17641, 17025, 16503, 10022, 4915, 22696, 35206, 6432]"
        }, 
        {
            "execution_count": 5, 
            "cell_type": "code", 
            "metadata": {}, 
            "outputs": [], 
            "source": "Prices = [22, 22, 22, 22, 22, 22, 16, 16, 16, 16, 16, 16, 16, 16, 16, 16, 16, 16, 16, 16, 16, 22, 22, 22, 22, 22, 22, 22, 11, 11, 11, 11, 11, 11, 11, 11, 11, \n13, 13, 13, 13, 13, 13, 13, 10, 10, 10, 10, 10, 10, 11, 11, 11, 11, 11, 11, 11, 11, 11, 11, 11, 11, 11, 11, 11, 11, 11, 11, 11, 11, \n10, 10, 10, 10, 10, 8.5, 8.5, 8.5, 8.5, 8.5, 8.5, 8.5, 8.5, 8.5, 8.5, 10, 10, 10, 10, 10, 10, 10, 10, 10, 10, 10]"
        }, 
        {
            "execution_count": 8, 
            "cell_type": "code", 
            "metadata": {}, 
            "outputs": [
                {
                    "execution_count": 8, 
                    "metadata": {}, 
                    "data": {
                        "text/html": "<div>\n<style scoped>\n    .dataframe tbody tr th:only-of-type {\n        vertical-align: middle;\n    }\n\n    .dataframe tbody tr th {\n        vertical-align: top;\n    }\n\n    .dataframe thead th {\n        text-align: right;\n    }\n</style>\n<table border=\"1\" class=\"dataframe\">\n  <thead>\n    <tr style=\"text-align: right;\">\n      <th></th>\n      <th>Borough</th>\n      <th>Neigborhood</th>\n      <th>Population</th>\n      <th>Price(eur/m2)</th>\n    </tr>\n  </thead>\n  <tbody>\n    <tr>\n      <th>0</th>\n      <td>Mitte</td>\n      <td>Mitte</td>\n      <td>79582</td>\n      <td>22.0</td>\n    </tr>\n    <tr>\n      <th>1</th>\n      <td>Mitte</td>\n      <td>Moabit</td>\n      <td>69425</td>\n      <td>22.0</td>\n    </tr>\n    <tr>\n      <th>2</th>\n      <td>Mitte</td>\n      <td>Hansaviertel</td>\n      <td>5889</td>\n      <td>22.0</td>\n    </tr>\n    <tr>\n      <th>3</th>\n      <td>Mitte</td>\n      <td>Tiergarten</td>\n      <td>12486</td>\n      <td>22.0</td>\n    </tr>\n    <tr>\n      <th>4</th>\n      <td>Mitte</td>\n      <td>Wedding</td>\n      <td>76363</td>\n      <td>22.0</td>\n    </tr>\n    <tr>\n      <th>5</th>\n      <td>Mitte</td>\n      <td>Gesundbrunnen</td>\n      <td>82729</td>\n      <td>22.0</td>\n    </tr>\n    <tr>\n      <th>6</th>\n      <td>Friedrichshain-Kreuzberg</td>\n      <td>Friedrichshain</td>\n      <td>114050</td>\n      <td>16.0</td>\n    </tr>\n    <tr>\n      <th>7</th>\n      <td>Friedrichshain-Kreuzberg</td>\n      <td>Kreuzberg</td>\n      <td>147227</td>\n      <td>16.0</td>\n    </tr>\n    <tr>\n      <th>8</th>\n      <td>Pankow</td>\n      <td>Prenzlauer Berg</td>\n      <td>142319</td>\n      <td>16.0</td>\n    </tr>\n    <tr>\n      <th>9</th>\n      <td>Pankow</td>\n      <td>Wei\u00dfensee</td>\n      <td>45485</td>\n      <td>16.0</td>\n    </tr>\n  </tbody>\n</table>\n</div>", 
                        "text/plain": "                    Borough      Neigborhood  Population  Price(eur/m2)\n0                     Mitte            Mitte       79582           22.0\n1                     Mitte           Moabit       69425           22.0\n2                     Mitte     Hansaviertel        5889           22.0\n3                     Mitte       Tiergarten       12486           22.0\n4                     Mitte          Wedding       76363           22.0\n5                     Mitte    Gesundbrunnen       82729           22.0\n6  Friedrichshain-Kreuzberg   Friedrichshain      114050           16.0\n7  Friedrichshain-Kreuzberg        Kreuzberg      147227           16.0\n8                    Pankow  Prenzlauer Berg      142319           16.0\n9                    Pankow        Wei\u00dfensee       45485           16.0"
                    }, 
                    "output_type": "execute_result"
                }
            ], 
            "source": "berlin_data = pd.DataFrame({'Borough': Boroughs, 'Neigborhood': Neigborhoods,\n                            'Population': Population, 'Price(eur/m2)': Prices})\nberlin_data.head(10)"
        }, 
        {
            "execution_count": 9, 
            "cell_type": "code", 
            "metadata": {}, 
            "outputs": [
                {
                    "output_type": "stream", 
                    "name": "stdout", 
                    "text": "Collecting geopy\n\u001b[?25l  Downloading https://files.pythonhosted.org/packages/f3/b4/c8842fc6a07fc95d6887370768850885382b47bf52f5cd8b6a4ae1b6f4d9/geopy-1.17.0-py2.py3-none-any.whl (92kB)\n\u001b[K    100% |\u2588\u2588\u2588\u2588\u2588\u2588\u2588\u2588\u2588\u2588\u2588\u2588\u2588\u2588\u2588\u2588\u2588\u2588\u2588\u2588\u2588\u2588\u2588\u2588\u2588\u2588\u2588\u2588\u2588\u2588\u2588\u2588| 92kB 4.0MB/s \n\u001b[?25hCollecting geographiclib<2,>=1.49 (from geopy)\n  Downloading https://files.pythonhosted.org/packages/5b/ac/4f348828091490d77899bc74e92238e2b55c59392f21948f296e94e50e2b/geographiclib-1.49.tar.gz\nBuilding wheels for collected packages: geographiclib\n  Running setup.py bdist_wheel for geographiclib ... \u001b[?25ldone\n\u001b[?25h  Stored in directory: /root/.cache/pip/wheels/99/45/d1/14954797e2a976083182c2e7da9b4e924509e59b6e5c661061\nSuccessfully built geographiclib\n\u001b[31mmenpo 0.8.1 has requirement matplotlib<2.0,>=1.4, but you'll have matplotlib 2.2.3 which is incompatible.\u001b[0m\n\u001b[31mmenpo 0.8.1 has requirement pillow<5.0,>=3.0, but you'll have pillow 5.2.0 which is incompatible.\u001b[0m\n\u001b[31mmenpo 0.8.1 has requirement scipy<1.0,>=0.16, but you'll have scipy 1.1.0 which is incompatible.\u001b[0m\nInstalling collected packages: geographiclib, geopy\nSuccessfully installed geographiclib-1.49 geopy-1.17.0\n\u001b[33mYou are using pip version 10.0.1, however version 18.1 is available.\nYou should consider upgrading via the 'pip install --upgrade pip' command.\u001b[0m\n"
                }
            ], 
            "source": "!pip install  geopy \nfrom geopy.geocoders import Nominatim "
        }, 
        {
            "execution_count": 10, 
            "cell_type": "code", 
            "metadata": {}, 
            "outputs": [
                {
                    "output_type": "stream", 
                    "name": "stderr", 
                    "text": "/usr/local/lib/python3.6/site-packages/geopy/geocoders/osm.py:143: UserWarning: Using Nominatim with the default \"geopy/1.17.0\" `user_agent` is strongly discouraged, as it violates Nominatim's ToS https://operations.osmfoundation.org/policies/nominatim/ and may possibly cause 403 and 429 HTTP errors. Please specify a custom `user_agent` with `Nominatim(user_agent=\"my-application\")` or by overriding the default `user_agent`: `geopy.geocoders.options.default_user_agent = \"my-application\"`. In geopy 2.0 this will become an exception.\n  UserWarning\n"
                }, 
                {
                    "output_type": "stream", 
                    "name": "stdout", 
                    "text": "The geograpical coordinate of Berlin are 52.5170365, 13.3888599.\n"
                }
            ], 
            "source": "address = 'Berlin, Germany'\n\ngeolocator = Nominatim()\nlocation = geolocator.geocode(address)\nlatitude = location.latitude\nlongitude = location.longitude\nprint('The geograpical coordinate of Berlin are {}, {}.'.format(latitude, longitude))"
        }, 
        {
            "execution_count": 12, 
            "cell_type": "code", 
            "metadata": {}, 
            "outputs": [
                {
                    "output_type": "stream", 
                    "name": "stdout", 
                    "text": "Done!\nLatitudes: \n[52.5176896, 52.5301017, 52.5191234, 52.5097776, 52.550123, 52.5509201, 52.5122154, 52.4976443, 52.5398466, 52.5546193, 52.593211, 52.5728248, 52.6150868, 52.5710194, 52.5660169, 52.6186272, 52.6366724, 52.6105131, 52.5858062, 52.5983189, 52.5880115, 52.515747, 52.4871152, 52.4789022, 52.4873475, 52.5133992, 52.5405253, 52.4972262, 52.535788, 52.5413233, 52.5398082, 52.5322705, 52.4856409, 52.4602925, 52.5609908, 52.5524034, 52.5139207, 52.4572569, 52.437293, 52.4336977, 52.4343217, 52.4573805, 52.4262495, 52.4211482, 52.482157, 52.472075, 52.4632921, 52.44008, 52.4125766, 52.3934559, 52.4811497, 52.4483324, 52.4186619, 52.4146801, 52.4249493, 52.4925634, 52.4795439, 52.4616938, 52.4459114, 52.4548197, 52.4118382, 52.4378932, 52.4022426, 52.4624563, 52.4539099, 52.4493804, 52.4353129, 52.4154272, 52.4121651, 52.3756651, 52.5429481, 52.5090006, 52.5082934, 52.5060776, 52.5368537, 52.5029358, 52.4837034, 52.5196723, 52.5692998, 52.5798667, 52.5743651, 52.5663309, 52.5493816, 52.5287849, 52.5013696, 52.5711856, 52.5873891, 52.5856837, 52.6122549, 52.6323917, 52.6183341, 52.60599315, 52.6146467, 52.5912366, 52.5993123, 52.5840624]\nLongitudes: \n[13.4023757, 13.3425422, 13.3418725, 13.3572597, 13.34197, 13.384846, 13.4502904, 13.411914, 13.4285652, 13.4630018, 13.4541825, 13.4370149, 13.4862758, 13.4632849, 13.4030903, 13.3884468, 13.4999292, 13.4281104, 13.401397, 13.3755194, 13.3622059, 13.3096834, 13.3203298, 13.2929962, 13.2637538, 13.2558416, 13.2962663, 13.2929986, 13.1977924, 13.231156, 13.2568934, 13.1433666, 13.1801341, 13.1400517, 13.1967693, 13.1668941, 13.1914518, 13.3222865, 13.3138645, 13.3454858, 13.2589298, 13.2810976, 13.1981446, 13.1589374, 13.3551901, 13.3296424, 13.3864477, 13.3900277, 13.3665916, 13.4020397, 13.4353501, 13.4423401, 13.4289504, 13.4986183, 13.466183, 13.4598743, 13.4788076, 13.4815479, 13.504547, 13.5178766, 13.5426461, 13.5475496, 13.5706649, 13.5234762, 13.5764126, 13.6262724, 13.7003862, 13.5805633, 13.6619543, 13.6488551, 13.563142, 13.555909, 13.5806682, 13.6118588, 13.6047745, 13.5205456, 13.5233553, 13.4950457, 13.5400296, 13.4820928, 13.5191298, 13.514065, 13.5046734, 13.4734687, 13.4835143, 13.3455963, 13.2790461, 13.2231978, 13.2295789, 13.2878663, 13.3110313, 13.3210460691062, 13.3530197, 13.3233195, 13.3565324, 13.3022741]\n"
                }
            ], 
            "source": "latitude = []\nlongitude = []\nfor index, row in berlin_data.iterrows():\n    address = '{}, {}, Berlin, Germany'. format(row[\"Neigborhood\"], row[\"Borough\"])\n    location = geolocator.geocode(address)\n    latitude.append(location.latitude)\n    longitude.append(location.longitude)\n\nprint ('Done!')\n\nprint('Latitudes: ')\nprint(latitude)\nprint('Longitudes: ')\nprint(longitude)\n    \n"
        }, 
        {
            "execution_count": 13, 
            "cell_type": "code", 
            "metadata": {}, 
            "outputs": [
                {
                    "execution_count": 13, 
                    "metadata": {}, 
                    "data": {
                        "text/html": "<div>\n<style scoped>\n    .dataframe tbody tr th:only-of-type {\n        vertical-align: middle;\n    }\n\n    .dataframe tbody tr th {\n        vertical-align: top;\n    }\n\n    .dataframe thead th {\n        text-align: right;\n    }\n</style>\n<table border=\"1\" class=\"dataframe\">\n  <thead>\n    <tr style=\"text-align: right;\">\n      <th></th>\n      <th>Borough</th>\n      <th>Neigborhood</th>\n      <th>Population</th>\n      <th>Price(eur/m2)</th>\n      <th>Latitude</th>\n      <th>Longitude</th>\n    </tr>\n  </thead>\n  <tbody>\n    <tr>\n      <th>0</th>\n      <td>Mitte</td>\n      <td>Mitte</td>\n      <td>79582</td>\n      <td>22.0</td>\n      <td>52.517690</td>\n      <td>13.402376</td>\n    </tr>\n    <tr>\n      <th>1</th>\n      <td>Mitte</td>\n      <td>Moabit</td>\n      <td>69425</td>\n      <td>22.0</td>\n      <td>52.530102</td>\n      <td>13.342542</td>\n    </tr>\n    <tr>\n      <th>2</th>\n      <td>Mitte</td>\n      <td>Hansaviertel</td>\n      <td>5889</td>\n      <td>22.0</td>\n      <td>52.519123</td>\n      <td>13.341872</td>\n    </tr>\n    <tr>\n      <th>3</th>\n      <td>Mitte</td>\n      <td>Tiergarten</td>\n      <td>12486</td>\n      <td>22.0</td>\n      <td>52.509778</td>\n      <td>13.357260</td>\n    </tr>\n    <tr>\n      <th>4</th>\n      <td>Mitte</td>\n      <td>Wedding</td>\n      <td>76363</td>\n      <td>22.0</td>\n      <td>52.550123</td>\n      <td>13.341970</td>\n    </tr>\n  </tbody>\n</table>\n</div>", 
                        "text/plain": "  Borough   Neigborhood  Population  Price(eur/m2)   Latitude  Longitude\n0   Mitte         Mitte       79582           22.0  52.517690  13.402376\n1   Mitte        Moabit       69425           22.0  52.530102  13.342542\n2   Mitte  Hansaviertel        5889           22.0  52.519123  13.341872\n3   Mitte    Tiergarten       12486           22.0  52.509778  13.357260\n4   Mitte       Wedding       76363           22.0  52.550123  13.341970"
                    }, 
                    "output_type": "execute_result"
                }
            ], 
            "source": "berlin_data['Latitude'] = latitude\nberlin_data['Longitude'] = longitude\nberlin_data.head()"
        }, 
        {
            "execution_count": 14, 
            "cell_type": "code", 
            "metadata": {}, 
            "outputs": [
                {
                    "execution_count": 14, 
                    "metadata": {}, 
                    "data": {
                        "text/html": "<div>\n<style scoped>\n    .dataframe tbody tr th:only-of-type {\n        vertical-align: middle;\n    }\n\n    .dataframe tbody tr th {\n        vertical-align: top;\n    }\n\n    .dataframe thead th {\n        text-align: right;\n    }\n</style>\n<table border=\"1\" class=\"dataframe\">\n  <thead>\n    <tr style=\"text-align: right;\">\n      <th></th>\n      <th>Borough</th>\n      <th>Neigborhood</th>\n      <th>Population</th>\n      <th>Price(eur/m2)</th>\n      <th>Latitude</th>\n      <th>Longitude</th>\n    </tr>\n  </thead>\n  <tbody>\n    <tr>\n      <th>0</th>\n      <td>Mitte</td>\n      <td>Mitte</td>\n      <td>79582</td>\n      <td>22.0</td>\n      <td>52.517690</td>\n      <td>13.402376</td>\n    </tr>\n    <tr>\n      <th>1</th>\n      <td>Mitte</td>\n      <td>Moabit</td>\n      <td>69425</td>\n      <td>22.0</td>\n      <td>52.530102</td>\n      <td>13.342542</td>\n    </tr>\n    <tr>\n      <th>2</th>\n      <td>Mitte</td>\n      <td>Hansaviertel</td>\n      <td>5889</td>\n      <td>22.0</td>\n      <td>52.519123</td>\n      <td>13.341872</td>\n    </tr>\n    <tr>\n      <th>3</th>\n      <td>Mitte</td>\n      <td>Tiergarten</td>\n      <td>12486</td>\n      <td>22.0</td>\n      <td>52.509778</td>\n      <td>13.357260</td>\n    </tr>\n    <tr>\n      <th>4</th>\n      <td>Mitte</td>\n      <td>Wedding</td>\n      <td>76363</td>\n      <td>22.0</td>\n      <td>52.550123</td>\n      <td>13.341970</td>\n    </tr>\n    <tr>\n      <th>5</th>\n      <td>Mitte</td>\n      <td>Gesundbrunnen</td>\n      <td>82729</td>\n      <td>22.0</td>\n      <td>52.550920</td>\n      <td>13.384846</td>\n    </tr>\n    <tr>\n      <th>6</th>\n      <td>Friedrichshain-Kreuzberg</td>\n      <td>Friedrichshain</td>\n      <td>114050</td>\n      <td>16.0</td>\n      <td>52.512215</td>\n      <td>13.450290</td>\n    </tr>\n    <tr>\n      <th>7</th>\n      <td>Friedrichshain-Kreuzberg</td>\n      <td>Kreuzberg</td>\n      <td>147227</td>\n      <td>16.0</td>\n      <td>52.497644</td>\n      <td>13.411914</td>\n    </tr>\n    <tr>\n      <th>8</th>\n      <td>Pankow</td>\n      <td>Prenzlauer Berg</td>\n      <td>142319</td>\n      <td>16.0</td>\n      <td>52.539847</td>\n      <td>13.428565</td>\n    </tr>\n    <tr>\n      <th>9</th>\n      <td>Pankow</td>\n      <td>Wei\u00dfensee</td>\n      <td>45485</td>\n      <td>16.0</td>\n      <td>52.554619</td>\n      <td>13.463002</td>\n    </tr>\n    <tr>\n      <th>10</th>\n      <td>Pankow</td>\n      <td>Blankenburg</td>\n      <td>6550</td>\n      <td>16.0</td>\n      <td>52.593211</td>\n      <td>13.454182</td>\n    </tr>\n    <tr>\n      <th>11</th>\n      <td>Pankow</td>\n      <td>Heinersdorf</td>\n      <td>6580</td>\n      <td>16.0</td>\n      <td>52.572825</td>\n      <td>13.437015</td>\n    </tr>\n    <tr>\n      <th>12</th>\n      <td>Pankow</td>\n      <td>Karow</td>\n      <td>18258</td>\n      <td>16.0</td>\n      <td>52.615087</td>\n      <td>13.486276</td>\n    </tr>\n    <tr>\n      <th>13</th>\n      <td>Pankow</td>\n      <td>Stadtrandsiedlung Malchow</td>\n      <td>1166</td>\n      <td>16.0</td>\n      <td>52.571019</td>\n      <td>13.463285</td>\n    </tr>\n    <tr>\n      <th>14</th>\n      <td>Pankow</td>\n      <td>Pankow</td>\n      <td>55854</td>\n      <td>16.0</td>\n      <td>52.566017</td>\n      <td>13.403090</td>\n    </tr>\n    <tr>\n      <th>15</th>\n      <td>Pankow</td>\n      <td>Blankenfelde</td>\n      <td>1917</td>\n      <td>16.0</td>\n      <td>52.618627</td>\n      <td>13.388447</td>\n    </tr>\n    <tr>\n      <th>16</th>\n      <td>Pankow</td>\n      <td>Buch</td>\n      <td>13188</td>\n      <td>16.0</td>\n      <td>52.636672</td>\n      <td>13.499929</td>\n    </tr>\n    <tr>\n      <th>17</th>\n      <td>Pankow</td>\n      <td>Franz\u00f6sisch Buchholz</td>\n      <td>18766</td>\n      <td>16.0</td>\n      <td>52.610513</td>\n      <td>13.428110</td>\n    </tr>\n    <tr>\n      <th>18</th>\n      <td>Pankow</td>\n      <td>Niedersch\u00f6nhausen</td>\n      <td>26903</td>\n      <td>16.0</td>\n      <td>52.585806</td>\n      <td>13.401397</td>\n    </tr>\n    <tr>\n      <th>19</th>\n      <td>Pankow</td>\n      <td>Rosenthal</td>\n      <td>8933</td>\n      <td>16.0</td>\n      <td>52.598319</td>\n      <td>13.375519</td>\n    </tr>\n  </tbody>\n</table>\n</div>", 
                        "text/plain": "                     Borough                Neigborhood  Population  \\\n0                      Mitte                      Mitte       79582   \n1                      Mitte                     Moabit       69425   \n2                      Mitte               Hansaviertel        5889   \n3                      Mitte                 Tiergarten       12486   \n4                      Mitte                    Wedding       76363   \n5                      Mitte              Gesundbrunnen       82729   \n6   Friedrichshain-Kreuzberg             Friedrichshain      114050   \n7   Friedrichshain-Kreuzberg                  Kreuzberg      147227   \n8                     Pankow            Prenzlauer Berg      142319   \n9                     Pankow                  Wei\u00dfensee       45485   \n10                    Pankow                Blankenburg        6550   \n11                    Pankow                Heinersdorf        6580   \n12                    Pankow                      Karow       18258   \n13                    Pankow  Stadtrandsiedlung Malchow        1166   \n14                    Pankow                     Pankow       55854   \n15                    Pankow               Blankenfelde        1917   \n16                    Pankow                       Buch       13188   \n17                    Pankow       Franz\u00f6sisch Buchholz       18766   \n18                    Pankow          Niedersch\u00f6nhausen       26903   \n19                    Pankow                  Rosenthal        8933   \n\n    Price(eur/m2)   Latitude  Longitude  \n0            22.0  52.517690  13.402376  \n1            22.0  52.530102  13.342542  \n2            22.0  52.519123  13.341872  \n3            22.0  52.509778  13.357260  \n4            22.0  52.550123  13.341970  \n5            22.0  52.550920  13.384846  \n6            16.0  52.512215  13.450290  \n7            16.0  52.497644  13.411914  \n8            16.0  52.539847  13.428565  \n9            16.0  52.554619  13.463002  \n10           16.0  52.593211  13.454182  \n11           16.0  52.572825  13.437015  \n12           16.0  52.615087  13.486276  \n13           16.0  52.571019  13.463285  \n14           16.0  52.566017  13.403090  \n15           16.0  52.618627  13.388447  \n16           16.0  52.636672  13.499929  \n17           16.0  52.610513  13.428110  \n18           16.0  52.585806  13.401397  \n19           16.0  52.598319  13.375519  "
                    }, 
                    "output_type": "execute_result"
                }
            ], 
            "source": "berlin_data.head(20)"
        }, 
        {
            "execution_count": 15, 
            "cell_type": "code", 
            "metadata": {}, 
            "outputs": [], 
            "source": "berlin_data.to_csv('berlin.csv')"
        }
    ], 
    "metadata": {
        "kernelspec": {
            "display_name": "Python 3.5", 
            "name": "python3", 
            "language": "python"
        }, 
        "language_info": {
            "mimetype": "text/x-python", 
            "nbconvert_exporter": "python", 
            "version": "3.5.5", 
            "name": "python", 
            "file_extension": ".py", 
            "pygments_lexer": "ipython3", 
            "codemirror_mode": {
                "version": 3, 
                "name": "ipython"
            }
        }
    }, 
    "nbformat": 4
}